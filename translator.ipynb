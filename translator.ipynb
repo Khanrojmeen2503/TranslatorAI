{
 "cells": [
  {
   "cell_type": "code",
   "execution_count": 1,
   "id": "a9aea3aa-411c-4145-b84d-1bc90b3999d5",
   "metadata": {},
   "outputs": [
    {
     "name": "stdout",
     "output_type": "stream",
     "text": [
      "Defaulting to user installation because normal site-packages is not writeable\n",
      "Looking in links: /usr/share/pip-wheels\n",
      "Requirement already satisfied: translate in ./.local/lib/python3.11/site-packages (3.6.1)\n",
      "Requirement already satisfied: click in /opt/conda/envs/anaconda-panel-2023.05-py310/lib/python3.11/site-packages (from translate) (8.0.4)\n",
      "Requirement already satisfied: lxml in /opt/conda/envs/anaconda-panel-2023.05-py310/lib/python3.11/site-packages (from translate) (4.9.1)\n",
      "Requirement already satisfied: requests in /opt/conda/envs/anaconda-panel-2023.05-py310/lib/python3.11/site-packages (from translate) (2.29.0)\n",
      "Requirement already satisfied: libretranslatepy==2.1.1 in ./.local/lib/python3.11/site-packages (from translate) (2.1.1)\n",
      "Requirement already satisfied: charset-normalizer<4,>=2 in /opt/conda/envs/anaconda-panel-2023.05-py310/lib/python3.11/site-packages (from requests->translate) (2.0.4)\n",
      "Requirement already satisfied: idna<4,>=2.5 in /opt/conda/envs/anaconda-panel-2023.05-py310/lib/python3.11/site-packages (from requests->translate) (3.4)\n",
      "Requirement already satisfied: urllib3<1.27,>=1.21.1 in /opt/conda/envs/anaconda-panel-2023.05-py310/lib/python3.11/site-packages (from requests->translate) (1.26.16)\n",
      "Requirement already satisfied: certifi>=2017.4.17 in /opt/conda/envs/anaconda-panel-2023.05-py310/lib/python3.11/site-packages (from requests->translate) (2023.5.7)\n",
      "Note: you may need to restart the kernel to use updated packages.\n"
     ]
    }
   ],
   "source": [
    "pip install translate\n"
   ]
  },
  {
   "cell_type": "code",
   "execution_count": 3,
   "id": "ec9cf16c-4106-45a3-bd4a-10f0aee035b4",
   "metadata": {},
   "outputs": [
    {
     "name": "stdin",
     "output_type": "stream",
     "text": [
      "Enter a sentence in English:  hello\n"
     ]
    },
    {
     "name": "stdout",
     "output_type": "stream",
     "text": [
      "Translated to French: bonjour\n"
     ]
    }
   ],
   "source": [
    "from translate import Translator\n",
    "\n",
    "def translate_to_french(text):\n",
    "    translator = Translator(to_lang=\"fr\")  # Specify the target language as French\n",
    "    translation = translator.translate(text)\n",
    "    return translation\n",
    "\n",
    "# Test the translator\n",
    "user_input = input(\"Enter a sentence in English: \")\n",
    "translated_output = translate_to_french(user_input)\n",
    "print(\"Translated to French:\", translated_output)\n"
   ]
  },
  {
   "cell_type": "code",
   "execution_count": null,
   "id": "8ac5bc89-258e-4402-95c3-8b0f0685001d",
   "metadata": {},
   "outputs": [],
   "source": []
  }
 ],
 "metadata": {
  "kernelspec": {
   "display_name": "anaconda-panel-2023.05-py310",
   "language": "python",
   "name": "conda-env-anaconda-panel-2023.05-py310-py"
  },
  "language_info": {
   "codemirror_mode": {
    "name": "ipython",
    "version": 3
   },
   "file_extension": ".py",
   "mimetype": "text/x-python",
   "name": "python",
   "nbconvert_exporter": "python",
   "pygments_lexer": "ipython3",
   "version": "3.11.4"
  }
 },
 "nbformat": 4,
 "nbformat_minor": 5
}
